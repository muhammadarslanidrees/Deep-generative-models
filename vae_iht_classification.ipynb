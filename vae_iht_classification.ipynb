{
 "cells": [
  {
   "cell_type": "code",
   "execution_count": 1,
   "metadata": {},
   "outputs": [],
   "source": [
    "import pandas as pd\n",
    "from sklearn.utils import shuffle\n",
    "from imblearn.under_sampling import InstanceHardnessThreshold"
   ]
  },
  {
   "cell_type": "code",
   "execution_count": null,
   "metadata": {},
   "outputs": [],
   "source": [
    "Fraud_ds = pd.read_csv(r\"\\data\\vae_train_normalized_balanced.csv\")\n",
    "Fraud_ds = shuffle(Fraud_ds)\n",
    "column = Fraud_ds.columns.values.tolist()\n",
    "data, Classlable = Fraud_ds.iloc[:,:-1], Fraud_ds.iloc[:, -1]\n"
   ]
  },
  {
   "cell_type": "code",
   "execution_count": 3,
   "metadata": {},
   "outputs": [],
   "source": [
    "print(data.shape)\n",
    "print(Classlable.shape)"
   ]
  },
  {
   "cell_type": "code",
   "execution_count": 2,
   "metadata": {},
   "outputs": [],
   "source": [
    "data.head()"
   ]
  },
  {
   "cell_type": "code",
   "execution_count": 9,
   "metadata": {},
   "outputs": [],
   "source": [
    "# iht = InstanceHardnessThreshold(random_state=41) \n",
    "\n",
    "# x_sam, y_sam = iht.fit_sample(data, Classlable)"
   ]
  },
  {
   "cell_type": "code",
   "execution_count": 11,
   "metadata": {},
   "outputs": [],
   "source": [
    "# Fraud_test = pd.read_csv(r'\\data\\test_norm_gans.csv')\n",
    "# print (Fraud_test.head(5))\n",
    "# #Fraud_test = Fraud_test.fillna(0)\n",
    "\n",
    "# # Fraud_test = Fraud_test.drop(columns = ['SK_ID_CURR'])\n",
    "# #Fraud_test = Fraud_test.astype('float32').copy()\n",
    "# #Fraud_test = shuffle(Fraud_test)\n",
    "\n",
    "# print (Fraud_test.shape)\n",
    "# print(\"Fraud and Normal Transaction in test set \",Fraud_test.Class.value_counts())\n",
    "# X_test, y_test = Fraud_test.iloc[:,:-1], Fraud_test.iloc[:, -1]"
   ]
  },
  {
   "cell_type": "code",
   "execution_count": 15,
   "metadata": {},
   "outputs": [],
   "source": [
    "X_test = pd.read_csv(r'\\data\\X_test_norm.csv')\n",
    "y_test = pd.read_csv(r'\\data\\y_test_norm.csv', header = None , names=['Index', 'Class'])"
   ]
  },
  {
   "cell_type": "code",
   "execution_count": 18,
   "metadata": {},
   "outputs": [],
   "source": [
    "del X_test['Unnamed: 0']\n",
    "y_test = y_test['Class']"
   ]
  },
  {
   "cell_type": "code",
   "execution_count": 5,
   "metadata": {},
   "outputs": [],
   "source": [
    "print(X_test.shape)"
   ]
  },
  {
   "cell_type": "code",
   "execution_count": 6,
   "metadata": {},
   "outputs": [],
   "source": [
    "print(\"Fraud and Normal Transaction in test set \",y_test.value_counts())"
   ]
  },
  {
   "cell_type": "code",
   "execution_count": 7,
   "metadata": {},
   "outputs": [],
   "source": [
    "print (X_test.head(5))\n",
    "print (y_test.head(5))\n",
    "\n",
    "print (\"Shape of te normal\",X_test.shape)"
   ]
  },
  {
   "cell_type": "code",
   "execution_count": 21,
   "metadata": {},
   "outputs": [],
   "source": [
    "import numpy as np\n",
    "import pandas as pd\n",
    "from sklearn.tree import DecisionTreeClassifier\n",
    "from sklearn.metrics import accuracy_score\n",
    "from sklearn import tree\n",
    "from sklearn.preprocessing import StandardScaler\n",
    "from sklearn.metrics import confusion_matrix\n",
    "from sklearn.neighbors import KNeighborsRegressor\n",
    "from sklearn.utils import shuffle\n",
    "from sklearn.naive_bayes import GaussianNB\n",
    "from sklearn.model_selection import train_test_split\n"
   ]
  },
  {
   "cell_type": "code",
   "execution_count": 23,
   "metadata": {},
   "outputs": [],
   "source": [
    "# xp = np.column_stack((x_sam, y_sam))\n",
    "xp = np.column_stack((data, Classlable))\n",
    "df = pd.DataFrame(xp)"
   ]
  },
  {
   "cell_type": "code",
   "execution_count": 24,
   "metadata": {},
   "outputs": [],
   "source": [
    "df.columns = column\n",
    "# df = df.drop(columns = ['SK_ID_CURR'])"
   ]
  },
  {
   "cell_type": "code",
   "execution_count": 8,
   "metadata": {
    "scrolled": false
   },
   "outputs": [],
   "source": [
    "#df = shuffle(df)\n",
    "print (df.head(10))\n",
    "print(\"Fraud and Normal Transaction in train set \",df.Class.value_counts())"
   ]
  },
  {
   "cell_type": "code",
   "execution_count": 27,
   "metadata": {},
   "outputs": [],
   "source": [
    "X_train, y_train = df.drop(['Class'], axis = 1), df['Class']"
   ]
  },
  {
   "cell_type": "code",
   "execution_count": 9,
   "metadata": {},
   "outputs": [],
   "source": [
    "print(X_train.shape)\n",
    "print(y_train.shape)"
   ]
  },
  {
   "cell_type": "code",
   "execution_count": 10,
   "metadata": {},
   "outputs": [],
   "source": [
    "X_train.head()"
   ]
  },
  {
   "cell_type": "code",
   "execution_count": 28,
   "metadata": {},
   "outputs": [],
   "source": [
    "from sklearn.ensemble import RandomForestClassifier, AdaBoostClassifier \n",
    "from sklearn.svm import SVC \n",
    "from sklearn.linear_model import LogisticRegression \n",
    "from sklearn.linear_model import SGDClassifier \n",
    "import xgboost as xgb\n",
    "from sklearn.metrics import precision_score\n",
    "from sklearn.metrics import roc_auc_score\n",
    "from sklearn.metrics import average_precision_score\n"
   ]
  },
  {
   "cell_type": "code",
   "execution_count": null,
   "metadata": {},
   "outputs": [],
   "source": [
    "#  , SVC(gamma='auto',kernel='rbf')\n",
    "# , SVC(gamma='auto',kernel='linear')\n",
    "#,SVC(gamma='auto',kernel='poly')\n"
   ]
  },
  {
   "cell_type": "code",
   "execution_count": 29,
   "metadata": {},
   "outputs": [],
   "source": [
    "classifiers = [ DecisionTreeClassifier(criterion = \"gini\", random_state = 100, max_depth=5, min_samples_leaf=5)\n",
    "#                , GaussianNB()\n",
    "#                , RandomForestClassifier(n_estimators=100, max_depth=2, random_state=0)\n",
    "#                , AdaBoostClassifier()\n",
    "#                , LogisticRegression(random_state=0, solver='lbfgs', multi_class='multinomial')\n",
    "#                , SGDClassifier(loss=\"hinge\", penalty=\"l2\", max_iter=5)\n",
    "               , xgb.XGBClassifier(max_depth=5, n_estimators=1000, learning_rate=0.1)]\n",
    "\n",
    "names = [\"Decision Tree\", \n",
    "#          \"Naive Bayes\",\"Random Forest\", \"AdaBoost\",\"Logical Regression\", \"Stochastic Gradient Descent\",\n",
    "         \"XGBOOST\"]\n"
   ]
  },
  {
   "cell_type": "code",
   "execution_count": 11,
   "metadata": {
    "scrolled": false
   },
   "outputs": [],
   "source": [
    "for name, clf in zip(names, classifiers):\n",
    "\n",
    "    print(\" \")\n",
    "    print(\" \")\n",
    "    print (\"Original Dataset\")\n",
    "    clf.fit(X_train, y_train)\n",
    "    pred = clf.predict(X_test)\n",
    "    Acc = accuracy_score(y_test,pred)*100\n",
    "\n",
    "    print(\"Accuracy of \",name,\" = \",Acc)\n",
    "    cm = confusion_matrix(y_test, pred)\n",
    "    print (\"Confusion Matrix of \", name,\" = \", cm)\n",
    "\n",
    "    print (\"AUCROC score of \", name,  \" = \", roc_auc_score(y_test,pred))\n",
    "    print (\"Average Precision score of \", name,  \" = \", average_precision_score(y_test,pred))\n",
    "    print (\"Precision score of \", name,  \" using macro avrerage = \", precision_score(y_test,pred, average='macro'))\n",
    "    print (\"Precision score of \", name,  \" using micro avrerage = \", precision_score(y_test,pred, average='micro'))\n",
    "\n",
    "    TP = cm[0][0]\n",
    "    FP = cm[0][1]\n",
    "    FN = cm[1][0]\n",
    "    TN = cm[1][1]\n",
    "\n",
    "    TPR = TP/(TP+FN)\n",
    "\n",
    "    TNR = TN/(TN+FP) \n",
    "\n",
    "    PPV = TP/(TP+FP)\n",
    "\n",
    "    NPV = TN/(TN+FN)\n",
    "\n",
    "    FPR = FP/(FP+TN)\n",
    "\n",
    "    FNR = FN/(TP+FN)\n",
    "\n",
    "    FDR = FP/(TP+FP)\n",
    "\n",
    "    print (\"True positive rate of \",name ,\" = \" , TPR)\n",
    "    print (\"True negative rate of \" ,name ,\" = \" , TNR)\n",
    "    print (\"Precision or positive predictive value of \",name,\" = \" , PPV)\n",
    "    print (\"Negative predictive value of \",name,\" = \" , NPV)\n",
    "    print (\"Fall out or false positive rate of \",name,\" = \" , FPR)\n",
    "    print (\"False negative rate of \",name,\" = \" , FNR)\n",
    "    print (\"False discovery rate of \" ,name,\" = \", FDR)"
   ]
  },
  {
   "cell_type": "code",
   "execution_count": null,
   "metadata": {},
   "outputs": [],
   "source": []
  }
 ],
 "metadata": {
  "kernelspec": {
   "display_name": "Python 3",
   "language": "python",
   "name": "python3"
  },
  "language_info": {
   "codemirror_mode": {
    "name": "ipython",
    "version": 3
   },
   "file_extension": ".py",
   "mimetype": "text/x-python",
   "name": "python",
   "nbconvert_exporter": "python",
   "pygments_lexer": "ipython3",
   "version": "3.5.0"
  }
 },
 "nbformat": 4,
 "nbformat_minor": 2
}
