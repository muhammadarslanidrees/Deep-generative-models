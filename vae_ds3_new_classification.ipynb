{
 "cells": [
  {
   "cell_type": "code",
   "execution_count": 1,
   "metadata": {},
   "outputs": [],
   "source": [
    "import pandas as pd\n",
    "from sklearn.utils import shuffle\n",
    "from imblearn.under_sampling import InstanceHardnessThreshold"
   ]
  },
  {
   "cell_type": "code",
   "execution_count": null,
   "metadata": {},
   "outputs": [],
   "source": [
    "Fraud_ds = pd.read_csv(r\"D:\\Projects\\1. Running Projects\\AML_Thesis_Project\\Auto-Calibration of Mantas Thresholds\\FCCM Data\\data\\vae_train_normalized_balanced.csv\")\n",
    "Fraud_ds = shuffle(Fraud_ds)\n",
    "column = Fraud_ds.columns.values.tolist()\n",
    "data, Classlable = Fraud_ds.iloc[:,:-1], Fraud_ds.iloc[:, -1]\n"
   ]
  },
  {
   "cell_type": "code",
   "execution_count": 8,
   "metadata": {},
   "outputs": [
    {
     "name": "stdout",
     "output_type": "stream",
     "text": [
      "(716189, 329)\n",
      "(716189,)\n"
     ]
    }
   ],
   "source": [
    "print(data.shape)\n",
    "print(Classlable.shape)"
   ]
  },
  {
   "cell_type": "code",
   "execution_count": 34,
   "metadata": {},
   "outputs": [
    {
     "data": {
      "text/html": [
       "<div>\n",
       "<style scoped>\n",
       "    .dataframe tbody tr th:only-of-type {\n",
       "        vertical-align: middle;\n",
       "    }\n",
       "\n",
       "    .dataframe tbody tr th {\n",
       "        vertical-align: top;\n",
       "    }\n",
       "\n",
       "    .dataframe thead th {\n",
       "        text-align: right;\n",
       "    }\n",
       "</style>\n",
       "<table border=\"1\" class=\"dataframe\">\n",
       "  <thead>\n",
       "    <tr style=\"text-align: right;\">\n",
       "      <th></th>\n",
       "      <th>ACCT_CT</th>\n",
       "      <th>INTER_HH_JRNL_IN_CT</th>\n",
       "      <th>INTER_HH_JRNL_IN_AM</th>\n",
       "      <th>INTER_HH_JRNL_OUT_CT</th>\n",
       "      <th>INTER_HH_JRNL_OUT_AM</th>\n",
       "      <th>INTER_HH_SCRTY_JRNL_IN_CT</th>\n",
       "      <th>INTER_HH_SCRTY_JRNL_OUT_CT</th>\n",
       "      <th>TOT_DEPST_CT</th>\n",
       "      <th>TOT_DEPST_AM</th>\n",
       "      <th>TOT_WDRWL_CT</th>\n",
       "      <th>...</th>\n",
       "      <th>Residence country_SM</th>\n",
       "      <th>Residence country_SO</th>\n",
       "      <th>Residence country_ST</th>\n",
       "      <th>Residence country_TH</th>\n",
       "      <th>Residence country_TK</th>\n",
       "      <th>Residence country_TR</th>\n",
       "      <th>Residence country_TZ</th>\n",
       "      <th>Residence country_US</th>\n",
       "      <th>Residence country_YE</th>\n",
       "      <th>Residence country_ZA</th>\n",
       "    </tr>\n",
       "  </thead>\n",
       "  <tbody>\n",
       "    <tr>\n",
       "      <th>568799</th>\n",
       "      <td>-0.002976</td>\n",
       "      <td>NaN</td>\n",
       "      <td>NaN</td>\n",
       "      <td>NaN</td>\n",
       "      <td>NaN</td>\n",
       "      <td>NaN</td>\n",
       "      <td>NaN</td>\n",
       "      <td>-0.000031</td>\n",
       "      <td>-0.000046</td>\n",
       "      <td>-0.000158</td>\n",
       "      <td>...</td>\n",
       "      <td>-3.033901e-07</td>\n",
       "      <td>-0.000011</td>\n",
       "      <td>-0.000002</td>\n",
       "      <td>-0.000001</td>\n",
       "      <td>-0.000001</td>\n",
       "      <td>-0.000001</td>\n",
       "      <td>-6.067801e-07</td>\n",
       "      <td>-0.000011</td>\n",
       "      <td>-0.000007</td>\n",
       "      <td>-3.033901e-07</td>\n",
       "    </tr>\n",
       "    <tr>\n",
       "      <th>128435</th>\n",
       "      <td>-0.006302</td>\n",
       "      <td>NaN</td>\n",
       "      <td>NaN</td>\n",
       "      <td>NaN</td>\n",
       "      <td>NaN</td>\n",
       "      <td>NaN</td>\n",
       "      <td>NaN</td>\n",
       "      <td>-0.000031</td>\n",
       "      <td>-0.000046</td>\n",
       "      <td>-0.000465</td>\n",
       "      <td>...</td>\n",
       "      <td>-3.033901e-07</td>\n",
       "      <td>-0.000011</td>\n",
       "      <td>-0.000002</td>\n",
       "      <td>-0.000001</td>\n",
       "      <td>-0.000001</td>\n",
       "      <td>-0.000001</td>\n",
       "      <td>-6.067801e-07</td>\n",
       "      <td>-0.000011</td>\n",
       "      <td>-0.000007</td>\n",
       "      <td>-3.033901e-07</td>\n",
       "    </tr>\n",
       "    <tr>\n",
       "      <th>362040</th>\n",
       "      <td>-0.006302</td>\n",
       "      <td>NaN</td>\n",
       "      <td>NaN</td>\n",
       "      <td>NaN</td>\n",
       "      <td>NaN</td>\n",
       "      <td>NaN</td>\n",
       "      <td>NaN</td>\n",
       "      <td>-0.000031</td>\n",
       "      <td>-0.000046</td>\n",
       "      <td>-0.000465</td>\n",
       "      <td>...</td>\n",
       "      <td>-3.033901e-07</td>\n",
       "      <td>-0.000011</td>\n",
       "      <td>-0.000002</td>\n",
       "      <td>-0.000001</td>\n",
       "      <td>-0.000001</td>\n",
       "      <td>-0.000001</td>\n",
       "      <td>-6.067801e-07</td>\n",
       "      <td>-0.000011</td>\n",
       "      <td>-0.000007</td>\n",
       "      <td>-3.033901e-07</td>\n",
       "    </tr>\n",
       "    <tr>\n",
       "      <th>638220</th>\n",
       "      <td>0.013654</td>\n",
       "      <td>NaN</td>\n",
       "      <td>NaN</td>\n",
       "      <td>NaN</td>\n",
       "      <td>NaN</td>\n",
       "      <td>NaN</td>\n",
       "      <td>NaN</td>\n",
       "      <td>0.000040</td>\n",
       "      <td>0.000211</td>\n",
       "      <td>0.000640</td>\n",
       "      <td>...</td>\n",
       "      <td>-3.033901e-07</td>\n",
       "      <td>-0.000011</td>\n",
       "      <td>-0.000002</td>\n",
       "      <td>-0.000001</td>\n",
       "      <td>-0.000001</td>\n",
       "      <td>-0.000001</td>\n",
       "      <td>-6.067801e-07</td>\n",
       "      <td>-0.000011</td>\n",
       "      <td>-0.000007</td>\n",
       "      <td>-3.033901e-07</td>\n",
       "    </tr>\n",
       "    <tr>\n",
       "      <th>169500</th>\n",
       "      <td>-0.002976</td>\n",
       "      <td>NaN</td>\n",
       "      <td>NaN</td>\n",
       "      <td>NaN</td>\n",
       "      <td>NaN</td>\n",
       "      <td>NaN</td>\n",
       "      <td>NaN</td>\n",
       "      <td>-0.000031</td>\n",
       "      <td>-0.000046</td>\n",
       "      <td>-0.000219</td>\n",
       "      <td>...</td>\n",
       "      <td>-3.033901e-07</td>\n",
       "      <td>-0.000011</td>\n",
       "      <td>-0.000002</td>\n",
       "      <td>-0.000001</td>\n",
       "      <td>-0.000001</td>\n",
       "      <td>-0.000001</td>\n",
       "      <td>-6.067801e-07</td>\n",
       "      <td>-0.000011</td>\n",
       "      <td>-0.000007</td>\n",
       "      <td>-3.033901e-07</td>\n",
       "    </tr>\n",
       "  </tbody>\n",
       "</table>\n",
       "<p>5 rows × 329 columns</p>\n",
       "</div>"
      ],
      "text/plain": [
       "         ACCT_CT  INTER_HH_JRNL_IN_CT  INTER_HH_JRNL_IN_AM  \\\n",
       "568799 -0.002976                  NaN                  NaN   \n",
       "128435 -0.006302                  NaN                  NaN   \n",
       "362040 -0.006302                  NaN                  NaN   \n",
       "638220  0.013654                  NaN                  NaN   \n",
       "169500 -0.002976                  NaN                  NaN   \n",
       "\n",
       "        INTER_HH_JRNL_OUT_CT  INTER_HH_JRNL_OUT_AM  INTER_HH_SCRTY_JRNL_IN_CT  \\\n",
       "568799                   NaN                   NaN                        NaN   \n",
       "128435                   NaN                   NaN                        NaN   \n",
       "362040                   NaN                   NaN                        NaN   \n",
       "638220                   NaN                   NaN                        NaN   \n",
       "169500                   NaN                   NaN                        NaN   \n",
       "\n",
       "        INTER_HH_SCRTY_JRNL_OUT_CT  TOT_DEPST_CT  TOT_DEPST_AM  TOT_WDRWL_CT  \\\n",
       "568799                         NaN     -0.000031     -0.000046     -0.000158   \n",
       "128435                         NaN     -0.000031     -0.000046     -0.000465   \n",
       "362040                         NaN     -0.000031     -0.000046     -0.000465   \n",
       "638220                         NaN      0.000040      0.000211      0.000640   \n",
       "169500                         NaN     -0.000031     -0.000046     -0.000219   \n",
       "\n",
       "        ...  Residence country_SM  Residence country_SO  Residence country_ST  \\\n",
       "568799  ...         -3.033901e-07             -0.000011             -0.000002   \n",
       "128435  ...         -3.033901e-07             -0.000011             -0.000002   \n",
       "362040  ...         -3.033901e-07             -0.000011             -0.000002   \n",
       "638220  ...         -3.033901e-07             -0.000011             -0.000002   \n",
       "169500  ...         -3.033901e-07             -0.000011             -0.000002   \n",
       "\n",
       "        Residence country_TH  Residence country_TK  Residence country_TR  \\\n",
       "568799             -0.000001             -0.000001             -0.000001   \n",
       "128435             -0.000001             -0.000001             -0.000001   \n",
       "362040             -0.000001             -0.000001             -0.000001   \n",
       "638220             -0.000001             -0.000001             -0.000001   \n",
       "169500             -0.000001             -0.000001             -0.000001   \n",
       "\n",
       "        Residence country_TZ  Residence country_US  Residence country_YE  \\\n",
       "568799         -6.067801e-07             -0.000011             -0.000007   \n",
       "128435         -6.067801e-07             -0.000011             -0.000007   \n",
       "362040         -6.067801e-07             -0.000011             -0.000007   \n",
       "638220         -6.067801e-07             -0.000011             -0.000007   \n",
       "169500         -6.067801e-07             -0.000011             -0.000007   \n",
       "\n",
       "        Residence country_ZA  \n",
       "568799         -3.033901e-07  \n",
       "128435         -3.033901e-07  \n",
       "362040         -3.033901e-07  \n",
       "638220         -3.033901e-07  \n",
       "169500         -3.033901e-07  \n",
       "\n",
       "[5 rows x 329 columns]"
      ]
     },
     "execution_count": 34,
     "metadata": {},
     "output_type": "execute_result"
    }
   ],
   "source": [
    "data.head()"
   ]
  },
  {
   "cell_type": "code",
   "execution_count": 9,
   "metadata": {},
   "outputs": [],
   "source": [
    "# iht = InstanceHardnessThreshold(random_state=41) \n",
    "\n",
    "# x_sam, y_sam = iht.fit_sample(data, Classlable)"
   ]
  },
  {
   "cell_type": "code",
   "execution_count": 11,
   "metadata": {},
   "outputs": [],
   "source": [
    "# Fraud_test = pd.read_csv(r'D:\\Projects\\1. Running Projects\\AML_Thesis_Project\\Auto-Calibration of Mantas Thresholds\\FCCM Data\\data\\test_norm_gans.csv')\n",
    "# print (Fraud_test.head(5))\n",
    "# #Fraud_test = Fraud_test.fillna(0)\n",
    "\n",
    "# # Fraud_test = Fraud_test.drop(columns = ['SK_ID_CURR'])\n",
    "# #Fraud_test = Fraud_test.astype('float32').copy()\n",
    "# #Fraud_test = shuffle(Fraud_test)\n",
    "\n",
    "# print (Fraud_test.shape)\n",
    "# print(\"Fraud and Normal Transaction in test set \",Fraud_test.Class.value_counts())\n",
    "# X_test, y_test = Fraud_test.iloc[:,:-1], Fraud_test.iloc[:, -1]"
   ]
  },
  {
   "cell_type": "code",
   "execution_count": 15,
   "metadata": {},
   "outputs": [],
   "source": [
    "X_test = pd.read_csv(r'D:\\Projects\\1. Running Projects\\AML_Thesis_Project\\Auto-Calibration of Mantas Thresholds\\FCCM Data\\data\\X_test_norm.csv')\n",
    "y_test = pd.read_csv(r'D:\\Projects\\1. Running Projects\\AML_Thesis_Project\\Auto-Calibration of Mantas Thresholds\\FCCM Data\\data\\y_test_norm.csv', header = None , names=['Index', 'Class'])"
   ]
  },
  {
   "cell_type": "code",
   "execution_count": 18,
   "metadata": {},
   "outputs": [],
   "source": [
    "del X_test['Unnamed: 0']\n",
    "y_test = y_test['Class']"
   ]
  },
  {
   "cell_type": "code",
   "execution_count": 22,
   "metadata": {},
   "outputs": [
    {
     "name": "stdout",
     "output_type": "stream",
     "text": [
      "(659218, 329)\n"
     ]
    }
   ],
   "source": [
    "print(X_test.shape)"
   ]
  },
  {
   "cell_type": "code",
   "execution_count": 19,
   "metadata": {},
   "outputs": [
    {
     "name": "stdout",
     "output_type": "stream",
     "text": [
      "Fraud and Normal Transaction in test set  0    658319\n",
      "1       899\n",
      "Name: Class, dtype: int64\n"
     ]
    }
   ],
   "source": [
    "print(\"Fraud and Normal Transaction in test set \",y_test.value_counts())"
   ]
  },
  {
   "cell_type": "code",
   "execution_count": 20,
   "metadata": {},
   "outputs": [
    {
     "name": "stdout",
     "output_type": "stream",
     "text": [
      "    ACCT_CT  INTER_HH_JRNL_IN_CT  INTER_HH_JRNL_IN_AM  INTER_HH_JRNL_OUT_CT  \\\n",
      "0 -0.004084                  NaN                  NaN                   NaN   \n",
      "1 -0.005193                  NaN                  NaN                   NaN   \n",
      "2 -0.006302                  NaN                  NaN                   NaN   \n",
      "3 -0.002976                  NaN                  NaN                   NaN   \n",
      "4 -0.004084                  NaN                  NaN                   NaN   \n",
      "\n",
      "   INTER_HH_JRNL_OUT_AM  INTER_HH_SCRTY_JRNL_IN_CT  \\\n",
      "0                   NaN                        NaN   \n",
      "1                   NaN                        NaN   \n",
      "2                   NaN                        NaN   \n",
      "3                   NaN                        NaN   \n",
      "4                   NaN                        NaN   \n",
      "\n",
      "   INTER_HH_SCRTY_JRNL_OUT_CT  TOT_DEPST_CT  TOT_DEPST_AM  TOT_WDRWL_CT  ...  \\\n",
      "0                         NaN     -0.000027     -0.000044     -0.000403  ...   \n",
      "1                         NaN     -0.000027     -0.000045     -0.000465  ...   \n",
      "2                         NaN     -0.000031     -0.000046     -0.000465  ...   \n",
      "3                         NaN     -0.000023     -0.000045     -0.000342  ...   \n",
      "4                         NaN     -0.000031     -0.000046     -0.000342  ...   \n",
      "\n",
      "   Residence country_SM  Residence country_SO  Residence country_ST  \\\n",
      "0         -3.033901e-07             -0.000011             -0.000002   \n",
      "1         -3.033901e-07             -0.000011             -0.000002   \n",
      "2         -3.033901e-07             -0.000011             -0.000002   \n",
      "3         -3.033901e-07             -0.000011             -0.000002   \n",
      "4         -3.033901e-07             -0.000011             -0.000002   \n",
      "\n",
      "   Residence country_TH  Residence country_TK  Residence country_TR  \\\n",
      "0             -0.000001             -0.000001             -0.000001   \n",
      "1             -0.000001             -0.000001             -0.000001   \n",
      "2             -0.000001             -0.000001             -0.000001   \n",
      "3             -0.000001             -0.000001             -0.000001   \n",
      "4             -0.000001             -0.000001             -0.000001   \n",
      "\n",
      "   Residence country_TZ  Residence country_US  Residence country_YE  \\\n",
      "0         -6.067801e-07             -0.000011             -0.000007   \n",
      "1         -6.067801e-07             -0.000011             -0.000007   \n",
      "2         -6.067801e-07             -0.000011             -0.000007   \n",
      "3         -6.067801e-07             -0.000011             -0.000007   \n",
      "4         -6.067801e-07             -0.000011             -0.000007   \n",
      "\n",
      "   Residence country_ZA  \n",
      "0         -3.033901e-07  \n",
      "1         -3.033901e-07  \n",
      "2         -3.033901e-07  \n",
      "3         -3.033901e-07  \n",
      "4         -3.033901e-07  \n",
      "\n",
      "[5 rows x 329 columns]\n",
      "0    0\n",
      "1    0\n",
      "2    0\n",
      "3    0\n",
      "4    0\n",
      "Name: Class, dtype: int64\n",
      "Shape of te normal (659218, 329)\n"
     ]
    }
   ],
   "source": [
    "print (X_test.head(5))\n",
    "print (y_test.head(5))\n",
    "\n",
    "print (\"Shape of te normal\",X_test.shape)"
   ]
  },
  {
   "cell_type": "code",
   "execution_count": 21,
   "metadata": {},
   "outputs": [],
   "source": [
    "import numpy as np\n",
    "import pandas as pd\n",
    "from sklearn.tree import DecisionTreeClassifier\n",
    "from sklearn.metrics import accuracy_score\n",
    "from sklearn import tree\n",
    "from sklearn.preprocessing import StandardScaler\n",
    "from sklearn.metrics import confusion_matrix\n",
    "from sklearn.neighbors import KNeighborsRegressor\n",
    "from sklearn.utils import shuffle\n",
    "from sklearn.naive_bayes import GaussianNB\n",
    "from sklearn.model_selection import train_test_split\n"
   ]
  },
  {
   "cell_type": "code",
   "execution_count": 23,
   "metadata": {},
   "outputs": [],
   "source": [
    "# xp = np.column_stack((x_sam, y_sam))\n",
    "xp = np.column_stack((data, Classlable))\n",
    "df = pd.DataFrame(xp)"
   ]
  },
  {
   "cell_type": "code",
   "execution_count": 24,
   "metadata": {},
   "outputs": [],
   "source": [
    "df.columns = column\n",
    "# df = df.drop(columns = ['SK_ID_CURR'])"
   ]
  },
  {
   "cell_type": "code",
   "execution_count": 25,
   "metadata": {
    "scrolled": false
   },
   "outputs": [
    {
     "name": "stdout",
     "output_type": "stream",
     "text": [
      "    ACCT_CT  INTER_HH_JRNL_IN_CT  INTER_HH_JRNL_IN_AM  INTER_HH_JRNL_OUT_CT  \\\n",
      "0 -0.002976                  NaN                  NaN                   NaN   \n",
      "1 -0.006302                  NaN                  NaN                   NaN   \n",
      "2 -0.006302                  NaN                  NaN                   NaN   \n",
      "3  0.013654                  NaN                  NaN                   NaN   \n",
      "4 -0.002976                  NaN                  NaN                   NaN   \n",
      "5 -0.002976                  NaN                  NaN                   NaN   \n",
      "6 -0.001867                  NaN                  NaN                   NaN   \n",
      "7  0.016980                  NaN                  NaN                   NaN   \n",
      "8 -0.001867                  NaN                  NaN                   NaN   \n",
      "9  0.018089                  NaN                  NaN                   NaN   \n",
      "\n",
      "   INTER_HH_JRNL_OUT_AM  INTER_HH_SCRTY_JRNL_IN_CT  \\\n",
      "0                   NaN                        NaN   \n",
      "1                   NaN                        NaN   \n",
      "2                   NaN                        NaN   \n",
      "3                   NaN                        NaN   \n",
      "4                   NaN                        NaN   \n",
      "5                   NaN                        NaN   \n",
      "6                   NaN                        NaN   \n",
      "7                   NaN                        NaN   \n",
      "8                   NaN                        NaN   \n",
      "9                   NaN                        NaN   \n",
      "\n",
      "   INTER_HH_SCRTY_JRNL_OUT_CT  TOT_DEPST_CT  TOT_DEPST_AM  TOT_WDRWL_CT  ...  \\\n",
      "0                         NaN     -0.000031     -0.000046     -0.000158  ...   \n",
      "1                         NaN     -0.000031     -0.000046     -0.000465  ...   \n",
      "2                         NaN     -0.000031     -0.000046     -0.000465  ...   \n",
      "3                         NaN      0.000040      0.000211      0.000640  ...   \n",
      "4                         NaN     -0.000031     -0.000046     -0.000219  ...   \n",
      "5                         NaN     -0.000031     -0.000046     -0.000281  ...   \n",
      "6                         NaN     -0.000027     -0.000043     -0.000281  ...   \n",
      "7                         NaN      0.000228      0.000127      0.000272  ...   \n",
      "8                         NaN     -0.000023     -0.000044     -0.000035  ...   \n",
      "9                         NaN      0.000104      0.002808      0.013719  ...   \n",
      "\n",
      "   Residence country_SO  Residence country_ST  Residence country_TH  \\\n",
      "0             -0.000011             -0.000002             -0.000001   \n",
      "1             -0.000011             -0.000002             -0.000001   \n",
      "2             -0.000011             -0.000002             -0.000001   \n",
      "3             -0.000011             -0.000002             -0.000001   \n",
      "4             -0.000011             -0.000002             -0.000001   \n",
      "5             -0.000011             -0.000002             -0.000001   \n",
      "6             -0.000011             -0.000002             -0.000001   \n",
      "7             -0.000011             -0.000002             -0.000001   \n",
      "8             -0.000011             -0.000002             -0.000001   \n",
      "9             -0.000011             -0.000002             -0.000001   \n",
      "\n",
      "   Residence country_TK  Residence country_TR  Residence country_TZ  \\\n",
      "0             -0.000001             -0.000001         -6.067801e-07   \n",
      "1             -0.000001             -0.000001         -6.067801e-07   \n",
      "2             -0.000001             -0.000001         -6.067801e-07   \n",
      "3             -0.000001             -0.000001         -6.067801e-07   \n",
      "4             -0.000001             -0.000001         -6.067801e-07   \n",
      "5             -0.000001             -0.000001         -6.067801e-07   \n",
      "6             -0.000001             -0.000001         -6.067801e-07   \n",
      "7             -0.000001             -0.000001         -6.067801e-07   \n",
      "8             -0.000001             -0.000001         -6.067801e-07   \n",
      "9             -0.000001             -0.000001         -6.067801e-07   \n",
      "\n",
      "   Residence country_US  Residence country_YE  Residence country_ZA  Class  \n",
      "0             -0.000011             -0.000007         -3.033901e-07    0.0  \n",
      "1             -0.000011             -0.000007         -3.033901e-07    0.0  \n",
      "2             -0.000011             -0.000007         -3.033901e-07    0.0  \n",
      "3             -0.000011             -0.000007         -3.033901e-07    0.0  \n",
      "4             -0.000011             -0.000007         -3.033901e-07    0.0  \n",
      "5             -0.000011             -0.000007         -3.033901e-07    0.0  \n",
      "6             -0.000011             -0.000007         -3.033901e-07    0.0  \n",
      "7             -0.000011             -0.000007         -3.033901e-07    0.0  \n",
      "8             -0.000011             -0.000007         -3.033901e-07    0.0  \n",
      "9             -0.000011             -0.000007         -3.033901e-07    0.0  \n",
      "\n",
      "[10 rows x 330 columns]\n",
      "Fraud and Normal Transaction in train set  0.0    715234\n",
      "1.0       955\n",
      "Name: Class, dtype: int64\n"
     ]
    }
   ],
   "source": [
    "#df = shuffle(df)\n",
    "print (df.head(10))\n",
    "print(\"Fraud and Normal Transaction in train set \",df.Class.value_counts())"
   ]
  },
  {
   "cell_type": "code",
   "execution_count": 27,
   "metadata": {},
   "outputs": [],
   "source": [
    "X_train, y_train = df.drop(['Class'], axis = 1), df['Class']"
   ]
  },
  {
   "cell_type": "code",
   "execution_count": 32,
   "metadata": {},
   "outputs": [
    {
     "name": "stdout",
     "output_type": "stream",
     "text": [
      "(716189, 329)\n",
      "(716189,)\n"
     ]
    }
   ],
   "source": [
    "print(X_train.shape)\n",
    "print(y_train.shape)"
   ]
  },
  {
   "cell_type": "code",
   "execution_count": 33,
   "metadata": {},
   "outputs": [
    {
     "data": {
      "text/html": [
       "<div>\n",
       "<style scoped>\n",
       "    .dataframe tbody tr th:only-of-type {\n",
       "        vertical-align: middle;\n",
       "    }\n",
       "\n",
       "    .dataframe tbody tr th {\n",
       "        vertical-align: top;\n",
       "    }\n",
       "\n",
       "    .dataframe thead th {\n",
       "        text-align: right;\n",
       "    }\n",
       "</style>\n",
       "<table border=\"1\" class=\"dataframe\">\n",
       "  <thead>\n",
       "    <tr style=\"text-align: right;\">\n",
       "      <th></th>\n",
       "    </tr>\n",
       "  </thead>\n",
       "  <tbody>\n",
       "    <tr>\n",
       "      
       "    </tr>\n",
       "    <tr>\n",
       "      <th>1</th>\n",
       "     
       "    </tr>\n",
       "    <tr>\n",
       "      
       "    </tr>\n",
       "    <tr>\n",
       "     
       "    </tr>\n",
       "    <tr>\n",
       "    
       "    </tr>\n",
       "  </tbody>\n",
       "</table>\n",
      
       "</div>"
      ],
      "text/plain": [
       
      ]
     },
     "execution_count": 33,
     "metadata": {},
     "output_type": "execute_result"
    }
   ],
   "source": [
    "X_train.head()"
   ]
  },
  {
   "cell_type": "code",
   "execution_count": 28,
   "metadata": {},
   "outputs": [],
   "source": [
    "from sklearn.ensemble import RandomForestClassifier, AdaBoostClassifier \n",
    "from sklearn.svm import SVC \n",
    "from sklearn.linear_model import LogisticRegression \n",
    "from sklearn.linear_model import SGDClassifier \n",
    "import xgboost as xgb\n",
    "from sklearn.metrics import precision_score\n",
    "from sklearn.metrics import roc_auc_score\n",
    "from sklearn.metrics import average_precision_score\n"
   ]
  },
  {
   "cell_type": "code",
   "execution_count": null,
   "metadata": {},
   "outputs": [],
   "source": [
    "#  , SVC(gamma='auto',kernel='rbf')\n",
    "# , SVC(gamma='auto',kernel='linear')\n",
    "#,SVC(gamma='auto',kernel='poly')\n"
   ]
  },
  {
   "cell_type": "code",
   "execution_count": 29,
   "metadata": {},
   "outputs": [],
   "source": [
    "classifiers = [ DecisionTreeClassifier(criterion = \"gini\", random_state = 100, max_depth=5, min_samples_leaf=5)\n",
    "#                , GaussianNB()\n",
    "#                , RandomForestClassifier(n_estimators=100, max_depth=2, random_state=0)\n",
    "#                , AdaBoostClassifier()\n",
    "#                , LogisticRegression(random_state=0, solver='lbfgs', multi_class='multinomial')\n",
    "#                , SGDClassifier(loss=\"hinge\", penalty=\"l2\", max_iter=5)\n",
    "               , xgb.XGBClassifier(max_depth=5, n_estimators=1000, learning_rate=0.1)]\n",
    "\n",
    "names = [\"Decision Tree\", \n",
    "#          \"Naive Bayes\",\"Random Forest\", \"AdaBoost\",\"Logical Regression\", \"Stochastic Gradient Descent\",\n",
    "         \"XGBOOST\"]\n"
   ]
  },
  {
   "cell_type": "code",
   "execution_count": 30,
   "metadata": {
    "scrolled": false
   },
   "outputs": [
    {
     "name": "stdout",
     "output_type": "stream",
     "text": [
     ]
    }
   ],
   "source": [
    "for name, clf in zip(names, classifiers):\n",
    "\n",
    "    print(\" \")\n",
    "    print(\" \")\n",
    "    print (\"Original Dataset\")\n",
    "    clf.fit(X_train, y_train)\n",
    "    pred = clf.predict(X_test)\n",
    "    Acc = accuracy_score(y_test,pred)*100\n",
    "\n",
    "    print(\"Accuracy of \",name,\" = \",Acc)\n",
    "    cm = confusion_matrix(y_test, pred)\n",
    "    print (\"Confusion Matrix of \", name,\" = \", cm)\n",
    "\n",
    "    print (\"AUCROC score of \", name,  \" = \", roc_auc_score(y_test,pred))\n",
    "    print (\"Average Precision score of \", name,  \" = \", average_precision_score(y_test,pred))\n",
    "    print (\"Precision score of \", name,  \" using macro avrerage = \", precision_score(y_test,pred, average='macro'))\n",
    "    print (\"Precision score of \", name,  \" using micro avrerage = \", precision_score(y_test,pred, average='micro'))\n",
    "\n",
    "    TP = cm[0][0]\n",
    "    FP = cm[0][1]\n",
    "    FN = cm[1][0]\n",
    "    TN = cm[1][1]\n",
    "\n",
    "    TPR = TP/(TP+FN)\n",
    "\n",
    "    TNR = TN/(TN+FP) \n",
    "\n",
    "    PPV = TP/(TP+FP)\n",
    "\n",
    "    NPV = TN/(TN+FN)\n",
    "\n",
    "    FPR = FP/(FP+TN)\n",
    "\n",
    "    FNR = FN/(TP+FN)\n",
    "\n",
    "    FDR = FP/(TP+FP)\n",
    "\n",
    "    print (\"True positive rate of \",name ,\" = \" , TPR)\n",
    "    print (\"True negative rate of \" ,name ,\" = \" , TNR)\n",
    "    print (\"Precision or positive predictive value of \",name,\" = \" , PPV)\n",
    "    print (\"Negative predictive value of \",name,\" = \" , NPV)\n",
    "    print (\"Fall out or false positive rate of \",name,\" = \" , FPR)\n",
    "    print (\"False negative rate of \",name,\" = \" , FNR)\n",
    "    print (\"False discovery rate of \" ,name,\" = \", FDR)"
   ]
  }
 ],
 "metadata": {
  "kernelspec": {
   "display_name": "Python 3",
   "language": "python",
   "name": "python3"
  },
  "language_info": {
   "codemirror_mode": {
    "name": "ipython",
    "version": 3
   },
   "file_extension": ".py",
   "mimetype": "text/x-python",
   "name": "python",
   "nbconvert_exporter": "python",
   "pygments_lexer": "ipython3",
   "version": "3.6.8"
  }
 },
 "nbformat": 4,
 "nbformat_minor": 2
}
